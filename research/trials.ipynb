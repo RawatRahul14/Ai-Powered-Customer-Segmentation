{
 "cells": [
  {
   "cell_type": "code",
   "execution_count": null,
   "id": "eca9a6b4",
   "metadata": {},
   "outputs": [],
   "source": [
    "import redis\n",
    "import time\n",
    "\n",
    "r = redis.Redis(\n",
    "    host='',\n",
    "    port=int(),\n",
    "    decode_responses=True,\n",
    "    username=\"\",\n",
    "    password=\"\",\n",
    ")\n",
    "\n"
   ]
  },
  {
   "cell_type": "code",
   "execution_count": 2,
   "id": "e477b0ca",
   "metadata": {},
   "outputs": [],
   "source": [
    "def benchmark(n=1000):\n",
    "    start = time.time()\n",
    "    for i in range(n):\n",
    "        key = f\"test:{i}\"\n",
    "        value = f\"value-{i}\"\n",
    "        r.set(key, value)\n",
    "        _ = r.get(key)\n",
    "    end = time.time()\n",
    "    print(f\"Total time for {n} ops: {end - start:.4f} seconds\")\n",
    "    print(f\"Avg latency per op: {(end - start) / (2*n):.6f} seconds\")"
   ]
  },
  {
   "cell_type": "code",
   "execution_count": 3,
   "id": "0ee1333e",
   "metadata": {},
   "outputs": [
    {
     "name": "stdout",
     "output_type": "stream",
     "text": [
      "Total time for 1000 ops: 96.8783 seconds\n",
      "Avg latency per op: 0.048439 seconds\n"
     ]
    }
   ],
   "source": [
    "benchmark(1000)"
   ]
  },
  {
   "cell_type": "markdown",
   "id": "cfd15121",
   "metadata": {},
   "source": [
    "---"
   ]
  },
  {
   "cell_type": "code",
   "execution_count": 2,
   "id": "cc4e9460",
   "metadata": {},
   "outputs": [],
   "source": [
    "import uuid"
   ]
  },
  {
   "cell_type": "code",
   "execution_count": 3,
   "id": "86c5d7c7",
   "metadata": {},
   "outputs": [
    {
     "data": {
      "text/plain": [
       "'78f3a592068648c0a4732ac50f7959dd'"
      ]
     },
     "execution_count": 3,
     "metadata": {},
     "output_type": "execute_result"
    }
   ],
   "source": [
    "uuid.uuid4().hex"
   ]
  },
  {
   "cell_type": "code",
   "execution_count": 6,
   "id": "1f085f16",
   "metadata": {},
   "outputs": [
    {
     "data": {
      "text/plain": [
       "'c8385202-f458-4369-a16f-c199e517589c'"
      ]
     },
     "execution_count": 6,
     "metadata": {},
     "output_type": "execute_result"
    }
   ],
   "source": [
    "str(uuid.uuid4())"
   ]
  },
  {
   "cell_type": "code",
   "execution_count": 10,
   "id": "e6d0ad70",
   "metadata": {},
   "outputs": [
    {
     "data": {
      "text/plain": [
       "'b1d41402-d7f2-4a03-b274'"
      ]
     },
     "execution_count": 10,
     "metadata": {},
     "output_type": "execute_result"
    }
   ],
   "source": [
    "str(uuid.uuid4())[:23]"
   ]
  },
  {
   "cell_type": "code",
   "execution_count": 5,
   "id": "263764d7",
   "metadata": {},
   "outputs": [],
   "source": [
    "import datetime"
   ]
  },
  {
   "cell_type": "code",
   "execution_count": 6,
   "id": "257ccbfe",
   "metadata": {},
   "outputs": [
    {
     "data": {
      "text/plain": [
       "'144635'"
      ]
     },
     "execution_count": 6,
     "metadata": {},
     "output_type": "execute_result"
    }
   ],
   "source": [
    "str(datetime.datetime.now().strftime(\"%H%M%S\"))"
   ]
  },
  {
   "cell_type": "code",
   "execution_count": 7,
   "id": "e9ad9cce",
   "metadata": {},
   "outputs": [],
   "source": [
    "import os\n",
    "os.chdir(\"../\")"
   ]
  },
  {
   "cell_type": "code",
   "execution_count": 8,
   "id": "56a57a8b",
   "metadata": {},
   "outputs": [],
   "source": [
    "from clusterProject.utils.common import create_uuid"
   ]
  },
  {
   "cell_type": "code",
   "execution_count": 9,
   "id": "3152f3ec",
   "metadata": {},
   "outputs": [
    {
     "data": {
      "text/plain": [
       "'f4e98bac176d431dbc36f00-144718'"
      ]
     },
     "execution_count": 9,
     "metadata": {},
     "output_type": "execute_result"
    }
   ],
   "source": [
    "create_uuid()"
   ]
  },
  {
   "cell_type": "code",
   "execution_count": null,
   "id": "6ba05e87",
   "metadata": {},
   "outputs": [],
   "source": []
  }
 ],
 "metadata": {
  "kernelspec": {
   "display_name": ".venv",
   "language": "python",
   "name": "python3"
  },
  "language_info": {
   "codemirror_mode": {
    "name": "ipython",
    "version": 3
   },
   "file_extension": ".py",
   "mimetype": "text/x-python",
   "name": "python",
   "nbconvert_exporter": "python",
   "pygments_lexer": "ipython3",
   "version": "3.11.8"
  }
 },
 "nbformat": 4,
 "nbformat_minor": 5
}
